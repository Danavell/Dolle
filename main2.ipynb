{
 "cells": [
  {
   "cell_type": "code",
   "execution_count": 4,
   "metadata": {},
   "outputs": [],
   "source": [
    "import pandas as pd\n",
    "from os.path import join\n",
    "from utils.sensor_data.feature_extraction import calc_rolling_time\n",
    "\n",
    "path = r'C:\\Development\\DolleProject\\dolle_csvs\\28-02-16 to 2018-12-19\\MLAgg0103 1405 - 1 SW, 3 CF, no overlaps'\n",
    "filename = 'sensor_data.csv'\n",
    "path = join(path, filename)\n"
   ]
  },
  {
   "cell_type": "code",
   "execution_count": 2,
   "metadata": {
    "tags": []
   },
   "outputs": [],
   "source": [
    "data = pd.read_csv(path, parse_dates=True, infer_datetime_format=True)"
   ]
  },
  {
   "cell_type": "code",
   "execution_count": 5,
   "metadata": {},
   "outputs": [],
   "source": [
    "cols = [\n",
    "    'JOBNUM', 'Date', 'Indgang 0101', 'Indgang 0102', 'Indgang 0103', \n",
    "    'Indgang 0104', 'Indgang 0105', 'Indgang 0106', '0103 ID'\n",
    "]\n",
    "a = data[cols].copy()\n",
    "a['Date'] = pd.to_datetime(a['Date'])\n",
    "\n",
    "\n",
    "def fill_time_gaps(group):\n",
    "    group.reset_index(inplace=True, drop=True)\n",
    "    first = group.loc[0, 'Date']\n",
    "    last = group.loc[len(group) - 1, 'Date']\n",
    "    i = pd.date_range(start=first, end=last, freq='S')\n",
    "    output = pd.DataFrame(index=i)\n",
    "    output = pd.merge(output, group.set_index('Date'), how='left', left_index=True, right_index=True)\n",
    "    return output\n",
    "\n",
    "\n",
    "b = a.groupby('JOBNUM').apply(fill_time_gaps)\n",
    "b['Date'] = b.index.get_level_values(1)\n",
    "b.fillna(method='ffill')\n",
    "b.reset_index(inplace=True, drop=True)\n",
    "b = calc_rolling_time(b, groupby_cols=['JOBNUM', '0103 ID'])"
   ]
  },
  {
   "cell_type": "code",
   "execution_count": null,
   "metadata": {},
   "outputs": [],
   "source": []
  }
 ],
 "metadata": {
  "language_info": {
   "codemirror_mode": {
    "name": "ipython",
    "version": 3
   },
   "file_extension": ".py",
   "mimetype": "text/x-python",
   "name": "python",
   "nbconvert_exporter": "python",
   "pygments_lexer": "ipython3",
   "version": "3.7.6-final"
  },
  "orig_nbformat": 2,
  "kernelspec": {
   "name": "python37664bitbaseconda2be0020e8fb8473395b0d22921987e40",
   "display_name": "Python 3.7.6 64-bit ('base': conda)"
  }
 },
 "nbformat": 4,
 "nbformat_minor": 2
}